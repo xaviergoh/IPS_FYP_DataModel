{
 "cells": [
  {
   "cell_type": "code",
   "execution_count": 8,
   "metadata": {},
   "outputs": [
    {
     "name": "stdout",
     "output_type": "stream",
     "text": [
      "ID2              1      2      3      4      5      6      7      8    9   \\\n",
      "Time   Label                                                                \n",
      "0.0    A      186.0  181.0  188.0  177.0  177.0  177.0  177.0    0.0  0.0   \n",
      "1.0    A      185.0  193.0  187.0  177.0  177.0    0.0  177.0    0.0  0.0   \n",
      "2.0    A        0.0  199.0  184.0  177.0    0.0    0.0  177.0  177.0  0.0   \n",
      "3.0    A      178.0  192.0  179.0    0.0  180.0  181.0    0.0  178.0  0.0   \n",
      "4.0    A      185.0  191.0  181.0  177.0  178.0    0.0    0.0  178.0  0.0   \n",
      "...             ...    ...    ...    ...    ...    ...    ...    ...  ...   \n",
      "2039.0 D        0.0  177.0  177.0  183.0    0.0    0.0  177.0    0.0  0.0   \n",
      "2040.0 D        0.0  177.0    0.0  183.0  184.0  186.0  178.0    0.0  0.0   \n",
      "2041.0 D        0.0    0.0    0.0  182.0  189.0  185.0    0.0  178.0  0.0   \n",
      "2042.0 D        0.0  179.0  177.0  181.0    0.0    0.0  177.0  179.0  0.0   \n",
      "2043.0 D        0.0  181.0    0.0  182.0  188.0  177.0    0.0  180.0  0.0   \n",
      "\n",
      "ID2              10     11  \n",
      "Time   Label                \n",
      "0.0    A      180.0    0.0  \n",
      "1.0    A      177.0    0.0  \n",
      "2.0    A      187.0  181.0  \n",
      "3.0    A      184.0  181.0  \n",
      "4.0    A      183.0  180.0  \n",
      "...             ...    ...  \n",
      "2039.0 D      182.0  192.0  \n",
      "2040.0 D      182.5  193.0  \n",
      "2041.0 D      183.0  195.0  \n",
      "2042.0 D      183.0  197.0  \n",
      "2043.0 D      180.0  197.0  \n",
      "\n",
      "[2044 rows x 11 columns]\n"
     ]
    }
   ],
   "source": [
    "\n",
    "\n",
    "from pandas import read_csv, set_option, pivot_table\n",
    "\n",
    "set_option('display.max_columns', 10)\n",
    "set_option('display.min_rows', 50)\n",
    "set_option('display.width', 500)\n",
    "\n",
    "def get_seconds(time):\n",
    "    hours, mins, secs = time.split(\":\")\n",
    "    return int(hours) * 3600 + int(mins) * 60 + int(secs)\n",
    "\n",
    "\n",
    "readings = read_csv(\"BLEData_130320.csv\")[[\"Time\", \"ID2\", \"RSSI\", \"Label\"]]\n",
    "readings.Time = readings.Time.transform(get_seconds)\n",
    "readings.Time = (readings.Time - readings.Time.min()) // 2\n",
    "time_diff_btw_rows = readings.Time.diff().fillna(0)\n",
    "time_diff_btw_rows -= (time_diff_btw_rows > 1) & (readings.Time % 2 > 0)\n",
    "readings.Time -= (time_diff_btw_rows - 1).clip(lower=0).cumsum()\n",
    "readings.ID2 = readings.ID2.transform(lambda hexadecimal: int(hexadecimal, 16))\n",
    "resampled_readings = readings.groupby([\"Time\", \"Label\", \"ID2\"]).mean().reset_index()\n",
    "pivoted_readings = pivot_table(resampled_readings, values=\"RSSI\", columns=[\"ID2\"], index=[\"Time\", \"Label\"]).fillna(0)\n",
    "print(pivoted_readings)"
   ]
  },
  {
   "cell_type": "code",
   "execution_count": null,
   "metadata": {},
   "outputs": [],
   "source": []
  }
 ],
 "metadata": {
  "kernelspec": {
   "display_name": "Python 3",
   "language": "python",
   "name": "python3"
  },
  "language_info": {
   "codemirror_mode": {
    "name": "ipython",
    "version": 3
   },
   "file_extension": ".py",
   "mimetype": "text/x-python",
   "name": "python",
   "nbconvert_exporter": "python",
   "pygments_lexer": "ipython3",
   "version": "3.7.6"
  }
 },
 "nbformat": 4,
 "nbformat_minor": 4
}
