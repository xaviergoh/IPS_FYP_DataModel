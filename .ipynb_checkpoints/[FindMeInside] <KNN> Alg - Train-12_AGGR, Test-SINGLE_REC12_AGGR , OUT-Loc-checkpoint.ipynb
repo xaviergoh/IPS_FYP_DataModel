{
 "cells": [
  {
   "cell_type": "code",
   "execution_count": 1,
   "metadata": {},
   "outputs": [],
   "source": [
    "import pandas as pd\n",
    "import numpy as np\n",
    "import math\n",
    "import operator\n",
    "\n",
    "from sklearn.model_selection import train_test_split\n",
    "from sklearn.preprocessing import StandardScaler\n",
    "from sklearn.neighbors import KNeighborsClassifier\n",
    "from sklearn.metrics import confusion_matrix\n",
    "from sklearn.metrics import f1_score\n",
    "from sklearn.metrics import accuracy_score\n",
    "from sklearn.model_selection import GridSearchCV\n",
    "\n",
    "import seaborn as sns\n",
    "import statsmodels.api as sm\n",
    "import matplotlib.pyplot as plt"
   ]
  },
  {
   "cell_type": "markdown",
   "metadata": {},
   "source": [
    "# Exploratory Data Analysis"
   ]
  },
  {
   "cell_type": "markdown",
   "metadata": {},
   "source": [
    "# Training & Test Sets"
   ]
  },
  {
   "cell_type": "code",
   "execution_count": 48,
   "metadata": {},
   "outputs": [
    {
     "name": "stdout",
     "output_type": "stream",
     "text": [
      "LAST INDEX:  12\n",
      "estimated k value:  4\n",
      "X_test:  [[179.3752969 184.6682578 190.6443418 177.9518717 178.1799163 180.3674912\n",
      "  178.0862069 177.        177.0038462 177.        177.8856502]\n",
      " [180.7990971 193.4029536 191.3459916 177.6388206 183.7602339 184.2372506\n",
      "  177.3333333 180.0130435 178.7227414 177.0181818 179.7169043]]\n",
      "y_test:  [['1,13']\n",
      " ['1,7']]\n"
     ]
    }
   ],
   "source": [
    "dataset = pd.read_csv('./Datasets/SensorLocDS/12LocAggregated.csv')\n",
    "# print(dataset.head())\n",
    "lastIndex = len(dataset)\n",
    "\n",
    "print(\"LAST INDEX: \", lastIndex)\n",
    "print(\"estimated k value: \", k_value)\n",
    "#dataset.iloc[rowrange, columnrange]\n",
    "ips_data = dataset.iloc[:lastIndex, 1:12]\n",
    "ips_labels = dataset.iloc[:lastIndex, :1]\n",
    "k_value = math.ceil(math.sqrt(len(ips_data)))\n",
    "X = ips_data.to_numpy()\n",
    "y = ips_labels.to_numpy()\n",
    "X_train = X\n",
    "y_train = y\n",
    "X_test = X[1:3]\n",
    "y_test = y[1:3]\n",
    "y_train = y_train.reshape(len(y_train),)\n",
    "print(\"X_test: \", X_test)\n",
    "print(\"y_test: \", y_test)\n",
    "\n",
    "# X_train, X_test, y_train, y_test = train_test_split(X.to_numpy(), y.to_numpy(), shuffle = True,test_size=0.3) "
   ]
  },
  {
   "cell_type": "markdown",
   "metadata": {},
   "source": [
    "# Parameter Optimisation"
   ]
  },
  {
   "cell_type": "markdown",
   "metadata": {},
   "source": [
    "# KNN Algorithm - Distance Calculation"
   ]
  },
  {
   "cell_type": "code",
   "execution_count": 49,
   "metadata": {},
   "outputs": [],
   "source": [
    "n_samples = 2\n",
    "\n",
    "#Function calculates euclidean distance between two n-dimensional data instances \n",
    "def euclideanDistance(instance1, instance2):\n",
    "    #handles if instances are lists or tuples:\n",
    "    instance1 = np.array(instance1) \n",
    "    instance2 = np.array(instance2)\n",
    "    \n",
    "    '''\n",
    "    https://docs.scipy.org/doc/numpy/reference/generated/numpy.linalg.norm.html\n",
    "    uses 2-norm frobenius norm and returns euclidean distance\n",
    "    '''\n",
    "    return np.linalg.norm(instance1 - instance2) #euclidean distance"
   ]
  },
  {
   "cell_type": "markdown",
   "metadata": {},
   "source": [
    "# KNN Algorithm - Determining Neighbours"
   ]
  },
  {
   "cell_type": "code",
   "execution_count": 50,
   "metadata": {},
   "outputs": [],
   "source": [
    "#Function finds nearest neighbours; nearest -> smallest euclidean distance\n",
    "def get_neighbors(training_set, \n",
    "                  labels, \n",
    "                  test_instance, \n",
    "                  k, \n",
    "                  distance=euclideanDistance):\n",
    "    \"\"\"\n",
    "    get_neighbors calculates a list of the k nearest neighbors\n",
    "    of an instance 'test_instance'.\n",
    "    The list neighbors contains 3-tuples with  \n",
    "    (index, dist, label)\n",
    "    where\n",
    "    index    is the index from the training_set, \n",
    "    dist     is the distance between the test_instance and the \n",
    "             instance training_set[index]\n",
    "    distance is a reference to a function used to calculate the \n",
    "             distances\n",
    "    \"\"\"\n",
    "    distances = [] #empty distance array\n",
    "    \n",
    "    #calculates euclidean distance between test_instance and ALL other instances in training_set\n",
    "    for index in range(len(training_set)):\n",
    "        dist = euclideanDistance(test_instance, training_set[index])\n",
    "        distances.append((training_set[index], dist, labels[index]))\n",
    "    distances.sort(key=lambda x: x[1])\n",
    "    neighbors = distances[:k]\n",
    "    return neighbors # The list neighbors contains 3-tuples with (index, dist, label)"
   ]
  },
  {
   "cell_type": "code",
   "execution_count": 44,
   "metadata": {
    "scrolled": true
   },
   "outputs": [
    {
     "data": {
      "text/html": [
       "<div>\n",
       "<style scoped>\n",
       "    .dataframe tbody tr th:only-of-type {\n",
       "        vertical-align: middle;\n",
       "    }\n",
       "\n",
       "    .dataframe tbody tr th {\n",
       "        vertical-align: top;\n",
       "    }\n",
       "\n",
       "    .dataframe thead th {\n",
       "        text-align: right;\n",
       "    }\n",
       "</style>\n",
       "<table border=\"1\" class=\"dataframe\">\n",
       "  <thead>\n",
       "    <tr style=\"text-align: right;\">\n",
       "      <th></th>\n",
       "      <th>i</th>\n",
       "      <th>X_test</th>\n",
       "      <th>y_test</th>\n",
       "      <th>neighbours</th>\n",
       "    </tr>\n",
       "  </thead>\n",
       "  <tbody>\n",
       "    <tr>\n",
       "      <th>0</th>\n",
       "      <td>0</td>\n",
       "      <td>[179.3752969, 184.66825780000002, 190.6443418,...</td>\n",
       "      <td>[1,13]</td>\n",
       "      <td>[([179.3752969, 184.66825780000002, 190.644341...</td>\n",
       "    </tr>\n",
       "    <tr>\n",
       "      <th>1</th>\n",
       "      <td>1</td>\n",
       "      <td>[180.79909709999998, 193.4029536, 191.3459916,...</td>\n",
       "      <td>[1,7]</td>\n",
       "      <td>[([180.79909709999998, 193.4029536, 191.345991...</td>\n",
       "    </tr>\n",
       "  </tbody>\n",
       "</table>\n",
       "</div>"
      ],
      "text/plain": [
       "   i                                             X_test  y_test  \\\n",
       "0  0  [179.3752969, 184.66825780000002, 190.6443418,...  [1,13]   \n",
       "1  1  [180.79909709999998, 193.4029536, 191.3459916,...   [1,7]   \n",
       "\n",
       "                                          neighbours  \n",
       "0  [([179.3752969, 184.66825780000002, 190.644341...  \n",
       "1  [([180.79909709999998, 193.4029536, 191.345991...  "
      ]
     },
     "execution_count": 44,
     "metadata": {},
     "output_type": "execute_result"
    }
   ],
   "source": [
    "# Get Neighbours\n",
    "outArray = []\n",
    "for i in range(n_samples):\n",
    "    neighbors = get_neighbors(X_train, \n",
    "                              y_train, \n",
    "                              X_test[i], \n",
    "                              k_value, \n",
    "                              distance=euclideanDistance)\n",
    "#     print(i,\n",
    "#           X_test[i],\n",
    "#           y_test[i],\n",
    "#           neighbors)\n",
    "    \n",
    "    outArray.append([i,\n",
    "          X_test[i],\n",
    "          y_test[i],\n",
    "          neighbors])\n",
    "\n",
    "out_df = pd.DataFrame(outArray, columns=['i', 'X_test', 'y_test', 'neighbours'])\n",
    "out_df.head()\n",
    "# out_df.tail()"
   ]
  },
  {
   "cell_type": "code",
   "execution_count": 51,
   "metadata": {},
   "outputs": [],
   "source": [
    "from collections import Counter\n",
    "#LOC: outputs for each [x,y] in label, \n",
    "#     where (x_n1, y_n1) rep x and y coord of 1st neighbour resp\n",
    "#     x_out = sum(x_n1, ... x_N) / N, where total neighbours = N\n",
    "def calcLocation(neighbours): \n",
    "    x_out = 0\n",
    "    y_out = 0\n",
    "    totalNeighbours = len(neighbours)\n",
    "    for neighbour in neighbours:\n",
    "        # handle label (str) to tuple(int, int)\n",
    "        labeltuple = neighbour[2]\n",
    "        labeltuple = tuple(map(int, labeltuple.split(',')))\n",
    "#         print(\"neighbour label: \", labeltuple)\n",
    "        x_nb = labeltuple[0]\n",
    "        y_nb = labeltuple[1]\n",
    "#         print(\"x_nb: \", x_nb)\n",
    "#         print(\"y_nb: \", y_nb)\n",
    "        x_out += x_nb\n",
    "        y_out += y_nb\n",
    "#         print(\"x_out: \", x_out)\n",
    "#         print(\"y_out: \", y_out)\n",
    "    return ((x_out/totalNeighbours) , (y_out/totalNeighbours))\n",
    "    \n"
   ]
  },
  {
   "cell_type": "code",
   "execution_count": 52,
   "metadata": {},
   "outputs": [
    {
     "name": "stdout",
     "output_type": "stream",
     "text": [
      "NON-WEIGHTED POSITION KNN\n",
      "\n",
      "test location:  (1, 13)\n",
      "calculalated location:  (2.5, 7.0)\n",
      "distance error:  6.18465843842649\n",
      "----------------------------\n",
      "test location:  (1, 7)\n",
      "calculalated location:  (4.0, 10.0)\n",
      "distance error:  4.242640687119285\n",
      "----------------------------\n"
     ]
    }
   ],
   "source": [
    "print(\"NON-WEIGHTED POSITION KNN\\n\")\n",
    "for i in range(n_samples):\n",
    "    neighbors = get_neighbors(X_train, \n",
    "                              y_train, \n",
    "                              X_test[i], \n",
    "                              k_value, \n",
    "                              distance=euclideanDistance)\n",
    "    testPosTuple = tuple(map(int, y_test[i][0].split(',')))\n",
    "    print(\"test location: \", testPosTuple)\n",
    "    print(\"calculalated location: \", calcLocation(neighbors))\n",
    "    print(\"distance error: \", euclideanDistance(testPosTuple, calcLocation(neighbors)))\n",
    "    print(\"----------------------------\")\n",
    "    \n"
   ]
  },
  {
   "cell_type": "code",
   "execution_count": 53,
   "metadata": {},
   "outputs": [],
   "source": [
    "#Function returns vote 'probability' - i.e. distribution/percentage majority vote\n",
    "def vote_prob(neighbors):\n",
    "    class_counter = Counter() # Counter object - https://docs.python.org/2/library/collections.html\n",
    "    for neighbor in neighbors:\n",
    "        class_counter[neighbor[2]] += 1 #add to count of target (class)\n",
    "        \n",
    "    # aggregates into tuples ~ zip(*iterables), \n",
    "    # Return a list of the n most common elements and their counts from the most common to the least.    \n",
    "    labels, votes = zip(*class_counter.most_common()) #returns list of sorted most common [labels], [votes]\n",
    "    #print(\"L|V: \", labels, votes)\n",
    "    #print(\"Class Counter: \", class_counter.most_common)\n",
    "    winner = class_counter.most_common(1)[0][0]       #majority label\n",
    "    votes4winner = class_counter.most_common(1)[0][1] #majority vote count\n",
    "    return winner, votes4winner/sum(votes)            #returns majority label, majority proportion"
   ]
  },
  {
   "cell_type": "code",
   "execution_count": 57,
   "metadata": {},
   "outputs": [
    {
     "name": "stdout",
     "output_type": "stream",
     "text": [
      "FILE WRITTEN\n"
     ]
    },
    {
     "data": {
      "text/html": [
       "<div>\n",
       "<style scoped>\n",
       "    .dataframe tbody tr th:only-of-type {\n",
       "        vertical-align: middle;\n",
       "    }\n",
       "\n",
       "    .dataframe tbody tr th {\n",
       "        vertical-align: top;\n",
       "    }\n",
       "\n",
       "    .dataframe thead th {\n",
       "        text-align: right;\n",
       "    }\n",
       "</style>\n",
       "<table border=\"1\" class=\"dataframe\">\n",
       "  <thead>\n",
       "    <tr style=\"text-align: right;\">\n",
       "      <th></th>\n",
       "      <th>index</th>\n",
       "      <th>data</th>\n",
       "      <th>pred_location</th>\n",
       "      <th>label</th>\n",
       "      <th>error</th>\n",
       "    </tr>\n",
       "  </thead>\n",
       "  <tbody>\n",
       "    <tr>\n",
       "      <th>0</th>\n",
       "      <td>0</td>\n",
       "      <td>[179.3752969, 184.66825780000002, 190.6443418,...</td>\n",
       "      <td>(2.5, 7.0)</td>\n",
       "      <td>1,13</td>\n",
       "      <td>6.184658</td>\n",
       "    </tr>\n",
       "    <tr>\n",
       "      <th>1</th>\n",
       "      <td>1</td>\n",
       "      <td>[180.79909709999998, 193.4029536, 191.3459916,...</td>\n",
       "      <td>(4.0, 10.0)</td>\n",
       "      <td>1,7</td>\n",
       "      <td>4.242641</td>\n",
       "    </tr>\n",
       "  </tbody>\n",
       "</table>\n",
       "</div>"
      ],
      "text/plain": [
       "   index                                               data pred_location  \\\n",
       "0      0  [179.3752969, 184.66825780000002, 190.6443418,...    (2.5, 7.0)   \n",
       "1      1  [180.79909709999998, 193.4029536, 191.3459916,...   (4.0, 10.0)   \n",
       "\n",
       "  label     error  \n",
       "0  1,13  6.184658  \n",
       "1   1,7  4.242641  "
      ]
     },
     "execution_count": 57,
     "metadata": {},
     "output_type": "execute_result"
    }
   ],
   "source": [
    "resultsKNN = pd.DataFrame(0, index=range(len(X_test)), columns=['index', 'data', 'pred_location', 'label', 'error'])\n",
    "\n",
    "indexArray = []\n",
    "dataArray = []\n",
    "locArray = []\n",
    "labelArray = []\n",
    "errorArray = []\n",
    "for i in range(len(X_test)):\n",
    "    neighbors = get_neighbors(X_train, \n",
    "                              y_train, \n",
    "                              X_test[i], \n",
    "                              k_value, \n",
    "                              distance=euclideanDistance)\n",
    "    \n",
    "    testPosTuple = tuple(map(int, y_test[i][0].split(',')))\n",
    "#     print(\"test location: \", testPosTuple)\n",
    "#     print(\"calculalated location: \", calcLocation(neighbors))\n",
    "#     print(\"distance error: \", euclideanDistance(testPosTuple, calcLocation(neighbors)))\n",
    "    \n",
    "    indexArray.append(i)\n",
    "    dataArray.append(X_test[i])\n",
    "    locArray.append(calcLocation(neighbors))\n",
    "    labelArray.append(y_test[i][0])\n",
    "    errorArray.append(euclideanDistance(testPosTuple, calcLocation(neighbors)))\n",
    "\n",
    "\n",
    "resultsKNN['index'] = indexArray\n",
    "resultsKNN['data'] = dataArray\n",
    "resultsKNN['pred_location'] = locArray\n",
    "resultsKNN['label'] = labelArray \n",
    "resultsKNN['error'] = errorArray\n",
    "\n",
    "\n",
    "resultsKNN.to_csv('./Datasets/SensorLocDS/Aggregated/KNN_LOC_AGG.csv', index=False)\n",
    "print(\"FILE WRITTEN\")\n",
    "resultsKNN.head(20)"
   ]
  },
  {
   "cell_type": "markdown",
   "metadata": {},
   "source": [
    "# Weighted KNN"
   ]
  },
  {
   "cell_type": "code",
   "execution_count": null,
   "metadata": {},
   "outputs": [],
   "source": [
    "'''\n",
    "def calcLocationRankW(neighbours): \n",
    "    x_out = 0\n",
    "    y_out = 0\n",
    "    rank = 0\n",
    "    for neighbour in neighbours:\n",
    "        rank += 1\n",
    "        # handle label (str) to tuple(int, int)\n",
    "        labeltuple = neighbour[2]\n",
    "        labeltuple = tuple(map(int, labeltuple.split(',')))\n",
    "#         print(\"neighbour label: \", labeltuple)\n",
    "        x_nb = labeltuple[0]\n",
    "        y_nb = labeltuple[1]\n",
    "#         print(\"x_nb: \", x_nb)\n",
    "#         print(\"y_nb: \", y_nb)\n",
    "        x_out += x_nb*(1/rank)\n",
    "        y_out += y_nb*(1/rank)\n",
    "#         print(\"x_out: \", x_out)\n",
    "#         print(\"y_out: \", y_out)\n",
    "    return ((x_out) , (y_out))\n",
    "'''"
   ]
  },
  {
   "cell_type": "code",
   "execution_count": null,
   "metadata": {},
   "outputs": [],
   "source": [
    "\"\"\"\n",
    "resultsRWKNN = pd.DataFrame(0, index=range(len(X_test)), columns=['index', 'data', 'label', 'vote_result', 'prediction'])\n",
    "\n",
    "indexArray = []\n",
    "dataArray = []\n",
    "labelArray = []\n",
    "voteArray = []\n",
    "predArray = []\n",
    "\n",
    "for i in range(len(X_test)):\n",
    "    neighbors = get_neighbors(X_train, \n",
    "                              y_train, \n",
    "                              X_test[i], \n",
    "                              k_value, \n",
    "                              distance=euclideanDistance)\n",
    "    \n",
    "    testPosTuple = tuple(map(int, y_test[i][0].split(',')))\n",
    "    print(\"test location: \", testPosTuple)\n",
    "    print(\"calculalated location: \", calcLocationRankW(neighbors))\n",
    "    print(\"distance error: \", euclideanDistance(testPosTuple, calcLocation(neighbors)))\n",
    "    \n",
    "# resultsRWKNN['index'] = indexArray\n",
    "# resultsRWKNN['data'] = dataArray\n",
    "# resultsRWKNN['label'] = labelArray\n",
    "# resultsRWKNN['vote_result'] = voteArray\n",
    "# resultsRWKNN['prediction'] = predArray\n",
    "\n",
    "\n",
    "# resultsRWKNN.to_csv('./Datasets/Testing/RANKKNN_LOC.csv', index=False) \n",
    "# print(\"FILE WRITTEN\")\n",
    "# resultsRWKNN\n",
    "\"\"\"\n"
   ]
  },
  {
   "cell_type": "markdown",
   "metadata": {},
   "source": [
    "# Distance Weighted KNN"
   ]
  },
  {
   "cell_type": "code",
   "execution_count": 58,
   "metadata": {},
   "outputs": [],
   "source": [
    "def calcLocationDistW(neighbours): \n",
    "    x_out = 0\n",
    "    y_out = 0\n",
    "    total_dist = 0\n",
    "    for neighbour in neighbours:\n",
    "        # handle label (str) to tuple(int, int)\n",
    "        labeltuple = neighbour[2]\n",
    "        labeltuple = tuple(map(int, labeltuple.split(',')))\n",
    "        # distance\n",
    "        dist_nb = neighbour[1]\n",
    "        total_dist += dist_nb\n",
    "#         print(\"Neighbour distance: \", dist_nb)\n",
    "#         print(\"Total distance: \", total_dist)\n",
    "        x_nb = labeltuple[0]\n",
    "        y_nb = labeltuple[1]\n",
    "#         print(\"x_nb: \", x_nb)\n",
    "#         print(\"y_nb: \", y_nb)\n",
    "        x_out += x_nb*(dist_nb)\n",
    "        y_out += y_nb*(dist_nb)\n",
    "#         print(\"x_out: \", x_out)\n",
    "#         print(\"y_out: \", y_out)\n",
    "    return ((x_out/total_dist) , (y_out/total_dist))\n"
   ]
  },
  {
   "cell_type": "code",
   "execution_count": 59,
   "metadata": {},
   "outputs": [
    {
     "name": "stdout",
     "output_type": "stream",
     "text": [
      "test location:  (1, 13)\n",
      "calculalated location:  (3.4313030294202367, 4.878163423776008)\n",
      "distance error:  8.47793983180807\n",
      "---------------------------------------------------------\n",
      "test location:  (1, 7)\n",
      "calculalated location:  (5.299639451086081, 10.807730931488198)\n",
      "distance error:  5.743319097520858\n",
      "---------------------------------------------------------\n"
     ]
    }
   ],
   "source": [
    "for i in range(len(X_test)):\n",
    "    neighbors = get_neighbors(X_train, \n",
    "                              y_train, \n",
    "                              X_test[i], \n",
    "                              k_value, \n",
    "                              distance=euclideanDistance)\n",
    "    \n",
    "    testPosTuple = tuple(map(int, y_test[i][0].split(',')))\n",
    "    print(\"test location: \", testPosTuple)\n",
    "    print(\"calculalated location: \", calcLocationDistW(neighbors))\n",
    "    print(\"distance error: \", euclideanDistance(testPosTuple, calcLocationDistW(neighbors)))\n",
    "    print(\"---------------------------------------------------------\")"
   ]
  },
  {
   "cell_type": "code",
   "execution_count": 60,
   "metadata": {},
   "outputs": [
    {
     "name": "stdout",
     "output_type": "stream",
     "text": [
      "FILE WRITTEN\n"
     ]
    },
    {
     "data": {
      "text/html": [
       "<div>\n",
       "<style scoped>\n",
       "    .dataframe tbody tr th:only-of-type {\n",
       "        vertical-align: middle;\n",
       "    }\n",
       "\n",
       "    .dataframe tbody tr th {\n",
       "        vertical-align: top;\n",
       "    }\n",
       "\n",
       "    .dataframe thead th {\n",
       "        text-align: right;\n",
       "    }\n",
       "</style>\n",
       "<table border=\"1\" class=\"dataframe\">\n",
       "  <thead>\n",
       "    <tr style=\"text-align: right;\">\n",
       "      <th></th>\n",
       "      <th>index</th>\n",
       "      <th>data</th>\n",
       "      <th>pred_location</th>\n",
       "      <th>label</th>\n",
       "      <th>error</th>\n",
       "    </tr>\n",
       "  </thead>\n",
       "  <tbody>\n",
       "    <tr>\n",
       "      <th>0</th>\n",
       "      <td>0</td>\n",
       "      <td>[179.3752969, 184.66825780000002, 190.6443418,...</td>\n",
       "      <td>(3.4313030294202367, 4.878163423776008)</td>\n",
       "      <td>1,13</td>\n",
       "      <td>8.477940</td>\n",
       "    </tr>\n",
       "    <tr>\n",
       "      <th>1</th>\n",
       "      <td>1</td>\n",
       "      <td>[180.79909709999998, 193.4029536, 191.3459916,...</td>\n",
       "      <td>(5.299639451086081, 10.807730931488198)</td>\n",
       "      <td>1,7</td>\n",
       "      <td>5.743319</td>\n",
       "    </tr>\n",
       "  </tbody>\n",
       "</table>\n",
       "</div>"
      ],
      "text/plain": [
       "   index                                               data  \\\n",
       "0      0  [179.3752969, 184.66825780000002, 190.6443418,...   \n",
       "1      1  [180.79909709999998, 193.4029536, 191.3459916,...   \n",
       "\n",
       "                             pred_location label     error  \n",
       "0  (3.4313030294202367, 4.878163423776008)  1,13  8.477940  \n",
       "1  (5.299639451086081, 10.807730931488198)   1,7  5.743319  "
      ]
     },
     "execution_count": 60,
     "metadata": {},
     "output_type": "execute_result"
    }
   ],
   "source": [
    "resultsDWKNN = pd.DataFrame(0, index=range(len(X_test)), columns=['index', 'data', 'pred_location', 'label', 'error'])\n",
    "\n",
    "writeFile = True\n",
    "indexArray = []\n",
    "dataArray = []\n",
    "locArray = []\n",
    "labelArray = []\n",
    "errorArray = []\n",
    "for i in range(len(X_test)):\n",
    "    neighbors = get_neighbors(X_train, \n",
    "                              y_train, \n",
    "                              X_test[i], \n",
    "                              k_value, \n",
    "                              distance=euclideanDistance)\n",
    "    \n",
    "    testPosTuple = tuple(map(int, y_test[i][0].split(',')))\n",
    "#     print(\"test location: \", testPosTuple)\n",
    "#     print(\"calculalated location: \", calcLocationDistW(neighbors))\n",
    "#     print(\"distance error: \", euclideanDistance(testPosTuple, calcLocationDistW(neighbors)))\n",
    "    \n",
    "    indexArray.append(i)\n",
    "    dataArray.append(X_test[i])\n",
    "    locArray.append(calcLocationDistW(neighbors))\n",
    "    labelArray.append(y_test[i][0])\n",
    "    errorArray.append(euclideanDistance(testPosTuple, calcLocationDistW(neighbors)))\n",
    "\n",
    "\n",
    "resultsDWKNN['index'] = indexArray\n",
    "resultsDWKNN['data'] = dataArray\n",
    "resultsDWKNN['pred_location'] = locArray\n",
    "resultsDWKNN['label'] = labelArray \n",
    "resultsDWKNN['error'] = errorArray\n",
    "\n",
    "if (writeFile == True):\n",
    "    resultsDWKNN.to_csv('./Datasets/SensorLocDS/Aggregated/DWKNN_LOC_AGG.csv', index=False)\n",
    "    print(\"FILE WRITTEN\")\n",
    "    \n",
    "resultsDWKNN.head(20)"
   ]
  },
  {
   "cell_type": "code",
   "execution_count": 62,
   "metadata": {},
   "outputs": [
    {
     "data": {
      "image/png": "[encoded data removed]",
      "text/plain": [
       "<Figure size 432x288 with 1 Axes>"
      ]
     },
     "metadata": {
      "needs_background": "light"
     },
     "output_type": "display_data"
    }
   ],
   "source": [
    "DataDWKNN = pd.read_csv('./Datasets/SensorLocDS/Aggregated/DWKNN_LOC_AGG.csv')\n",
    "# Find the unique values\n",
    "\n",
    "# unique_values = np.sort(pd.Series)\n",
    "# Make the rank array for these sorted and unique values in the dataset -\n",
    "# ranks = np.arange(0,len(unique_values))/(len(unique_values)-1)\n",
    "# Plot unique_values vs ranks\n",
    "\n",
    "error = DataDWKNN['error']\n",
    "## sort the unique values using pandas unique function\n",
    "dwknn_error = np.sort(error.unique())\n",
    "dwknn_cdf = np.arange(0,len(dwknn_error),step=1)/(len(dwknn_error)-1)\n",
    "\n",
    "## plotting    \n",
    "plt.plot(dwknn_error,dwknn_cdf)\n",
    "plt.show()"
   ]
  },
  {
   "cell_type": "code",
   "execution_count": 65,
   "metadata": {},
   "outputs": [
    {
     "data": {
      "image/png": "[encoded data removed]",
      "text/plain": [
       "<Figure size 432x288 with 1 Axes>"
      ]
     },
     "metadata": {
      "needs_background": "light"
     },
     "output_type": "display_data"
    }
   ],
   "source": [
    "DataKNN = pd.read_csv('./Datasets/SensorLocDS/Aggregated/KNN_LOC_AGG.csv')\n",
    "# Find the unique values\n",
    "\n",
    "# unique_values = np.sort(pd.Series)\n",
    "# Make the rank array for these sorted and unique values in the dataset -\n",
    "# ranks = np.arange(0,len(unique_values))/(len(unique_values)-1)\n",
    "# Plot unique_values vs ranks\n",
    "\n",
    "error = DataKNN['error']\n",
    "## sort the unique values using pandas unique function\n",
    "knn_error = np.sort(error.unique())\n",
    "knn_cdf = np.arange(0,len(knn_error),step=1)/(len(knn_error)-1)\n",
    "\n",
    "## plotting    \n",
    "plt.plot(knn_error,knn_cdf)\n",
    "plt.show()"
   ]
  },
  {
   "cell_type": "code",
   "execution_count": 67,
   "metadata": {},
   "outputs": [
    {
     "data": {
      "image/png": "[encoded data removed]",
      "text/plain": [
       "<Figure size 432x288 with 1 Axes>"
      ]
     },
     "metadata": {
      "needs_background": "light"
     },
     "output_type": "display_data"
    }
   ],
   "source": [
    "DataDWKNN = pd.read_csv('./Datasets/SensorLocDS/Aggregated/DWKNN_LOC_AGG.csv')\n",
    "# Find the unique values\n",
    "\n",
    "# unique_values = np.sort(pd.Series)\n",
    "# Make the rank array for these sorted and unique values in the dataset -\n",
    "# ranks = np.arange(0,len(unique_values))/(len(unique_values)-1)\n",
    "# Plot unique_values vs ranks\n",
    "\n",
    "error = DataDWKNN['error']\n",
    "## sort the unique values using pandas unique function\n",
    "dwknn_error = np.sort(error.unique())\n",
    "cdf = np.arange(0,len(dwknn_error),step=1)/(len(dwknn_error)-1)\n",
    "\n",
    "## plotting    \n",
    "plt.plot(dwknn_error,cdf, \"blue\")\n",
    "\n",
    "\n",
    "DataKNN = pd.read_csv('./Datasets/SensorLocDS/Aggregated/KNN_LOC_AGG.csv')\n",
    "# Find the unique values\n",
    "\n",
    "# unique_values = np.sort(pd.Series)\n",
    "# Make the rank array for these sorted and unique values in the dataset -\n",
    "# ranks = np.arange(0,len(unique_values))/(len(unique_values)-1)\n",
    "# Plot unique_values vs ranks\n",
    "\n",
    "error = DataKNN['error']\n",
    "## sort the unique values using pandas unique function\n",
    "knn_error = np.sort(error.unique())\n",
    "cdf = np.arange(0,len(knn_error),step=1)/(len(knn_error)-1)\n",
    "\n",
    "## plotting    \n",
    "plt.plot(knn_error,cdf, \"red\")\n",
    "plt.show()"
   ]
  },
  {
   "cell_type": "code",
   "execution_count": null,
   "metadata": {},
   "outputs": [],
   "source": [
    "t = np.linspace(0, 2*math.pi, 400)\n",
    "a = np.sin(t)\n",
    "b = np.cos(t)\n",
    "c = a + b\n",
    "\n",
    "plt.plot(t, a, 'r') # plotting t, a separately \n",
    "plt.plot(t, b, 'b') # plotting t, b separately \n",
    "plt.plot(t, c, 'g') # plotting t, c separately \n",
    "plt.show()"
   ]
  },
  {
   "cell_type": "code",
   "execution_count": null,
   "metadata": {},
   "outputs": [],
   "source": []
  }
 ],
 "metadata": {
  "kernelspec": {
   "display_name": "Python 3",
   "language": "python",
   "name": "python3"
  },
  "language_info": {
   "codemirror_mode": {
    "name": "ipython",
    "version": 3
   },
   "file_extension": ".py",
   "mimetype": "text/x-python",
   "name": "python",
   "nbconvert_exporter": "python",
   "pygments_lexer": "ipython3",
   "version": "3.7.6"
  }
 },
 "nbformat": 4,
 "nbformat_minor": 4
}
