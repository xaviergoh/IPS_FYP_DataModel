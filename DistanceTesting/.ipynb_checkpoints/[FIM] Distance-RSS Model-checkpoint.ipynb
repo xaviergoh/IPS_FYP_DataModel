{
 "cells": [
  {
   "cell_type": "code",
   "execution_count": 27,
   "metadata": {},
   "outputs": [
    {
     "data": {
      "image/png": "[encoded data removed]",
      "text/plain": [
       "<Figure size 432x288 with 1 Axes>"
      ]
     },
     "metadata": {
      "needs_background": "light"
     },
     "output_type": "display_data"
    },
    {
     "data": {
      "image/png": "[encoded data removed]",
      "text/plain": [
       "<Figure size 432x288 with 1 Axes>"
      ]
     },
     "metadata": {
      "needs_background": "light"
     },
     "output_type": "display_data"
    }
   ],
   "source": [
    "\n",
    "import pandas as pd\n",
    "import matplotlib.pyplot as plt\n",
    "\n",
    "data_dist1M = pd.read_csv('BLE_1mSep_120320.csv')\n",
    "data_dist2M = pd.read_csv('BLE_2mSep_120320.csv')\n",
    "data_dist3M = pd.read_csv('BLE_3mSep_130320.csv')\n",
    "data_dist4M = pd.read_csv('BLE_4mSep_130320.csv')\n",
    "data_dist5M = pd.read_csv('BLE_5mSep_120320.csv')\n",
    "\n",
    "normalise = True\n",
    "if (normalise):\n",
    "    data_dist1M['RSSI'] =  data_dist1M['RSSI'].transform(lambda x : x/x.max())\n",
    "    data_dist2M['RSSI'] =  data_dist2M['RSSI'].transform(lambda x : x/x.max())\n",
    "    data_dist3M['RSSI'] =  data_dist3M['RSSI'].transform(lambda x : x/x.max())\n",
    "    data_dist4M['RSSI'] =  data_dist4M['RSSI'].transform(lambda x : x/x.max())\n",
    "    data_dist5M['RSSI'] =  data_dist5M['RSSI'].transform(lambda x : x/x.max())\n",
    "\n",
    "plt.bar(\"1M\", data_dist1M['RSSI'].mean())\n",
    "plt.bar(\"2M\", data_dist2M['RSSI'].mean())\n",
    "plt.bar(\"3M\", data_dist3M['RSSI'].mean())\n",
    "plt.bar(\"4M\", data_dist4M['RSSI'].mean())\n",
    "plt.bar(\"5M\", data_dist5M['RSSI'].mean())\n",
    "plt.show()\n",
    "\n",
    "\n",
    "plt.bar(\"1M\", data_dist1M['RSSI'].median())\n",
    "plt.bar(\"2M\", data_dist2M['RSSI'].median())\n",
    "plt.bar(\"3M\", data_dist3M['RSSI'].median())\n",
    "plt.bar(\"4M\", data_dist4M['RSSI'].median())\n",
    "plt.bar(\"5M\", data_dist5M['RSSI'].mean())\n",
    "plt.show()"
   ]
  },
  {
   "cell_type": "code",
   "execution_count": null,
   "metadata": {},
   "outputs": [],
   "source": []
  }
 ],
 "metadata": {
  "kernelspec": {
   "display_name": "Python 3",
   "language": "python",
   "name": "python3"
  },
  "language_info": {
   "codemirror_mode": {
    "name": "ipython",
    "version": 3
   },
   "file_extension": ".py",
   "mimetype": "text/x-python",
   "name": "python",
   "nbconvert_exporter": "python",
   "pygments_lexer": "ipython3",
   "version": "3.7.6"
  }
 },
 "nbformat": 4,
 "nbformat_minor": 4
}
