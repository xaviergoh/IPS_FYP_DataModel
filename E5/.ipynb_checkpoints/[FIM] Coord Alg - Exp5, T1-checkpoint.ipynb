{
 "cells": [
  {
   "cell_type": "code",
   "execution_count": 1,
   "metadata": {},
   "outputs": [],
   "source": [
    "'''\n",
    "===================================================\n",
    "Notebook naming convention for FindMeInside (FMI)\n",
    "===================================================\n",
    "Notebook name: [FMI] <Coord/Label> Alg - Exp<experiment_number>, Trial<trial_number>\n",
    "\n",
    "===================================================\n",
    "Folder/File naming convention\n",
    "===================================================\n",
    "# Folder categorised by Experiment (except Testing folder)\n",
    "Folder name: Experiment<Experiment_number>\n",
    "\n",
    "# Each Folder has N files.\n",
    "# A file is either a 1)Unprocessed Dataset, 2)Processed Dataset, 3)Results dataset, 4) Notebook file\n",
    "# Each experiment has N trials. (Adjustments to parameters/algorithm are made in each trial)\n",
    "Files in folder will be named accordingly...\n",
    "\n",
    "- Raw data point:             E<experiment_number>_Label/Location<location_identifier>_<date>v<version_number>\n",
    "-- e.g. E1_LabelA_230320v1\n",
    "- Raw data collection:        E<experiment_number>_All_Raw_<date>v<version_number>\n",
    "-- e.g. E1_All_Raw_230320v1\n",
    "- Processed data (if any):    E<experiment_number>_All_Proc_<date>v<version_number>\n",
    "-- e.g. E1_All_Proc_230320v1\n",
    "- Resampled data (if any):    E<experiment_number>_resampled_t<trial_number>\n",
    "-- e.g. E1_resampled_t1\n",
    "- Results data:               E<experiment_number>_<algorithm>_t<trial_number>_k<number_of_neighbours>\n",
    "-- e.g. E1_KNN_t1_k37\n",
    "\n",
    "===================================================\n",
    "List of experiment(s) & description(s)\n",
    "===================================================\n",
    ">> Experiment 1 (Exp1) :11 Sensors {1, ..., 11} , 4 Location Labels {A,B,C,D}\n",
    ">> Data collected via Cypress BLE PC App\n",
    ">> Trained Data: Resampled 11-Sensor RSSI Signature (100-x%)\n",
    ">> Tested Data: Resampled 11-Sensor RSSI Signature (x%)\n",
    ">> Output: Location Label (Classification Model)\n",
    "\n",
    ">> Experiment 2 (Exp2) :11 Sensors {1, ..., 11} , 4 Location Coords {(x_A, y_A), ... (x_D, y_D)}\n",
    ">> Data collected via Cypress BLE PC App\n",
    ">> Trained Data: Resampled 11-Sensor RSSI Signature (100-x%)\n",
    ">> Tested Data: Resampled 11-Sensor RSSI Signature (x%)\n",
    ">> Output: Location Coords (Regression Model)\n",
    "\n",
    ">> Experiment 3 (Exp3) : 12 Sensors {0x1, ..., 0xC} , 12 Location Label {(x_1,y_1), ... , (x_12, y_12)}\n",
    ">> Data collected via Cypress BLE PC App\n",
    ">> Trained Data: Resampled 12-Sensor RSSI Signature (100-x%)\n",
    ">> Tested Data: Resampled 12-Sensor RSSI Signature (x%)\n",
    ">> Output: Location Label (Classification Model)\n",
    "\n",
    ">> Experiment 4 (Exp4) : 12 Sensors {0x1, ..., 0xC} , 12 Location Coords {(x_1,y_1), ... , (x_12, y_12)}\n",
    ">> Data collected via Cypress BLE PC App\n",
    ">> Trained Data: Resampled 12-Sensor RSSI Signature (100-x%)\n",
    ">> Tested Data: Resampled 12-Sensor RSSI Signature (x%)\n",
    ">> Output: Location Coords (Regression Model)\n",
    "\n",
    ">> Experiment 5 (Exp5) : 12 Sensors {0x1, ..., 0xC} , 12 Location Coords {(x_1,y_1), ... , (x_12, y_12)}\n",
    ">> Data collected via Cypress BLE PC App\n",
    ">> Trained Data: Averaged 12-Sensor RSSI Signature for 12 Locations\n",
    ">> Tested Data: Averaged 12-Sensor RSSI Signature\n",
    ">> Output: Location Coords (Regression Model)\n",
    "\n",
    ">> Experiment 6 (Exp6) : 12 Sensors {0x1, ..., 0xC} , 12 Location Coords {(x_1,y_1), ... , (x_12, y_12)}\n",
    ">> Data collected via Cypress BLE PC App\n",
    ">> Trained Data: Averaged 12-Sensor RSSI Signature for 12 Locations\n",
    ">> Tested Data: Resampled 12-Sensor RSSI Signature\n",
    ">> Output: Location Coords (Regression Model)\n",
    "\n",
    ">> Experiment 7 (Exp7) : 12 Sensors {0x1, ..., 0xC} , 12 Location Coords {(x_1,y_1), ... , (x_12, y_12)}\n",
    ">> Data collected via FindMeInside Phone App\n",
    ">> Trained Data: Averaged 12-Sensor RSSI Signature for 12 Locations\n",
    ">> Tested Data: Averaged 12-Sensor RSSI Signature\n",
    ">> Output: Location Coords (Regression Model)\n",
    "\n",
    "'''\n",
    "None"
   ]
  },
  {
   "cell_type": "markdown",
   "metadata": {},
   "source": [
    "# Trial Description"
   ]
  },
  {
   "cell_type": "code",
   "execution_count": 142,
   "metadata": {},
   "outputs": [],
   "source": [
    "exp = 5\n",
    "trial = 1\n",
    "'''\n",
    "Trial 1\n",
    "Algorithms use calcLocation mechanic\n",
    "Resampling done within time period of 2s.\n",
    "'''\n",
    "None"
   ]
  },
  {
   "cell_type": "markdown",
   "metadata": {},
   "source": [
    "# Core Libraries"
   ]
  },
  {
   "cell_type": "code",
   "execution_count": 143,
   "metadata": {},
   "outputs": [],
   "source": [
    "import pandas as pd #from pandas import read_csv, pivot_table\n",
    "import numpy as np\n",
    "import math\n",
    "import operator\n",
    "\n",
    "from sklearn.model_selection import train_test_split\n",
    "from sklearn.preprocessing import StandardScaler\n",
    "from sklearn.neighbors import KNeighborsClassifier\n",
    "from sklearn.metrics import f1_score\n",
    "from sklearn.metrics import accuracy_score\n",
    "from sklearn.model_selection import GridSearchCV\n",
    "from sklearn.model_selection import train_test_split, cross_val_score\n",
    "from sklearn.metrics import classification_report, confusion_matrix, accuracy_score\n",
    "from sklearn import preprocessing\n",
    "\n",
    "import seaborn as sns\n",
    "import statsmodels.api as sm\n",
    "import matplotlib.pyplot as plt"
   ]
  },
  {
   "cell_type": "markdown",
   "metadata": {},
   "source": [
    "# Exploratory Data Analysis"
   ]
  },
  {
   "cell_type": "markdown",
   "metadata": {},
   "source": [
    "# Training & Test Sets"
   ]
  },
  {
   "cell_type": "code",
   "execution_count": 144,
   "metadata": {},
   "outputs": [
    {
     "name": "stdout",
     "output_type": "stream",
     "text": [
      "estimated k value:  3\n",
      "X_test:  [[177.        179.5412371 177.0430464 181.5261845 188.        179.9442971\n",
      "  189.2653509 192.3333333 188.5889145 181.204918  190.6894273 184.1956522]\n",
      " [179.5366972 191.0541126 185.5274725 187.7090909 192.8294798 183.3042506\n",
      "  178.9412998 177.7024129 179.6430108 177.0064103 180.0020619 181.1188341]\n",
      " [177.        177.9974359 178.8566434 178.9141104 180.4969136 188.4444444\n",
      "  177.0091743 179.3349633 195.1928251 177.4652015 183.1703057 188.5068493]\n",
      " [193.2018141 189.4590164 183.5217391 182.9301746 177.5605536 177.\n",
      "  177.3694581 177.7354839 177.        177.        177.        177.       ]]\n",
      "y_test:  [['13,7']\n",
      " ['7,7']\n",
      " ['13,13']\n",
      " ['1,1']]\n"
     ]
    }
   ],
   "source": [
    "resampledDS = pd.read_csv('E5_resampled_T1.csv')\n",
    "tempSeries = resampledDS['Location']\n",
    "resampledDS = resampledDS.drop(columns=['Location'])\n",
    "resampledDS[\"Location\"] = tempSeries\n",
    "resampledDS.head()\n",
    "lastIndex = len(resampledDS)\n",
    "numCol = len(resampledDS.columns)\n",
    "\n",
    "ips_data = resampledDS.iloc[:lastIndex, :numCol-1]\n",
    "# print(ips_data)\n",
    "ips_labels = resampledDS.iloc[:lastIndex, numCol-1:]\n",
    "# print(ips_labels)\n",
    "\n",
    "\n",
    "# #dataset.iloc[rowrange, columnrange]\n",
    "X = ips_data.to_numpy()\n",
    "y = ips_labels.to_numpy()\n",
    "X_train, X_test, y_train, y_test = train_test_split(X, y, shuffle = True,test_size=0.3) \n",
    "y_train = y_train.reshape(len(y_train),)\n",
    "\n",
    "k_value_rootN = math.ceil(math.sqrt(len(X_train)))\n",
    "print(\"estimated k value: \", k_value_rootN)\n",
    "print(\"X_test: \", X_test)\n",
    "print(\"y_test: \", y_test)"
   ]
  },
  {
   "cell_type": "markdown",
   "metadata": {},
   "source": [
    "# Parameter Optimisation"
   ]
  },
  {
   "cell_type": "markdown",
   "metadata": {},
   "source": [
    "# KNN Algorithm - Distance Calculation"
   ]
  },
  {
   "cell_type": "code",
   "execution_count": 145,
   "metadata": {},
   "outputs": [],
   "source": [
    "n_samples = 2\n",
    "\n",
    "#Function calculates euclidean distance between two n-dimensional data instances \n",
    "def euclideanDistance(instance1, instance2):\n",
    "    #handles if instances are lists or tuples:\n",
    "    instance1 = np.array(instance1) \n",
    "    instance2 = np.array(instance2)\n",
    "    \n",
    "    '''\n",
    "    https://docs.scipy.org/doc/numpy/reference/generated/numpy.linalg.norm.html\n",
    "    uses 2-norm frobenius norm and returns euclidean distance\n",
    "    '''\n",
    "    return np.linalg.norm(instance1 - instance2) #euclidean distance"
   ]
  },
  {
   "cell_type": "markdown",
   "metadata": {},
   "source": [
    "# KNN Algorithm - Determining Neighbours"
   ]
  },
  {
   "cell_type": "code",
   "execution_count": 146,
   "metadata": {},
   "outputs": [],
   "source": [
    "#Function finds nearest neighbours; nearest -> smallest euclidean distance\n",
    "def get_neighbors(training_set, \n",
    "                  labels, \n",
    "                  test_instance, \n",
    "                  k, \n",
    "                  distance=euclideanDistance):\n",
    "    \"\"\"\n",
    "    get_neighbors calculates a list of the k nearest neighbors\n",
    "    of an instance 'test_instance'.\n",
    "    The list neighbors contains 3-tuples with  \n",
    "    (index, dist, label)\n",
    "    where\n",
    "    index    is the index from the training_set, \n",
    "    dist     is the distance between the test_instance and the \n",
    "             instance training_set[index]\n",
    "    distance is a reference to a function used to calculate the \n",
    "             distances\n",
    "    \"\"\"\n",
    "    distances = [] #empty distance array\n",
    "    \n",
    "    #calculates euclidean distance between test_instance and ALL other instances in training_set\n",
    "    for index in range(len(training_set)):\n",
    "        dist = euclideanDistance(test_instance, training_set[index])\n",
    "        distances.append((training_set[index], dist, labels[index]))\n",
    "    distances.sort(key=lambda x: x[1])\n",
    "    neighbors = distances[:k]\n",
    "    return neighbors # The list neighbors contains 3-tuples with (index, dist, label)"
   ]
  },
  {
   "cell_type": "code",
   "execution_count": 147,
   "metadata": {
    "scrolled": true
   },
   "outputs": [
    {
     "data": {
      "text/html": [
       "<div>\n",
       "<style scoped>\n",
       "    .dataframe tbody tr th:only-of-type {\n",
       "        vertical-align: middle;\n",
       "    }\n",
       "\n",
       "    .dataframe tbody tr th {\n",
       "        vertical-align: top;\n",
       "    }\n",
       "\n",
       "    .dataframe thead th {\n",
       "        text-align: right;\n",
       "    }\n",
       "</style>\n",
       "<table border=\"1\" class=\"dataframe\">\n",
       "  <thead>\n",
       "    <tr style=\"text-align: right;\">\n",
       "      <th></th>\n",
       "      <th>i</th>\n",
       "      <th>X_test</th>\n",
       "      <th>y_test</th>\n",
       "      <th>neighbours</th>\n",
       "    </tr>\n",
       "  </thead>\n",
       "  <tbody>\n",
       "    <tr>\n",
       "      <th>0</th>\n",
       "      <td>0</td>\n",
       "      <td>[177.0, 179.54123710000002, 177.0430464, 181.5...</td>\n",
       "      <td>[13,7]</td>\n",
       "      <td>[([177.0, 177.0251046, 177.229765, 177.9952607...</td>\n",
       "    </tr>\n",
       "    <tr>\n",
       "      <th>1</th>\n",
       "      <td>1</td>\n",
       "      <td>[179.5366972, 191.0541126, 185.52747250000002,...</td>\n",
       "      <td>[7,7]</td>\n",
       "      <td>[([180.79909709999998, 193.4029536, 191.345991...</td>\n",
       "    </tr>\n",
       "    <tr>\n",
       "      <th>2</th>\n",
       "      <td>2</td>\n",
       "      <td>[177.0, 177.99743590000003, 178.85664340000002...</td>\n",
       "      <td>[13,13]</td>\n",
       "      <td>[([177.0, 177.0251046, 177.229765, 177.9952607...</td>\n",
       "    </tr>\n",
       "  </tbody>\n",
       "</table>\n",
       "</div>"
      ],
      "text/plain": [
       "   i                                             X_test   y_test  \\\n",
       "0  0  [177.0, 179.54123710000002, 177.0430464, 181.5...   [13,7]   \n",
       "1  1  [179.5366972, 191.0541126, 185.52747250000002,...    [7,7]   \n",
       "2  2  [177.0, 177.99743590000003, 178.85664340000002...  [13,13]   \n",
       "\n",
       "                                          neighbours  \n",
       "0  [([177.0, 177.0251046, 177.229765, 177.9952607...  \n",
       "1  [([180.79909709999998, 193.4029536, 191.345991...  \n",
       "2  [([177.0, 177.0251046, 177.229765, 177.9952607...  "
      ]
     },
     "execution_count": 147,
     "metadata": {},
     "output_type": "execute_result"
    }
   ],
   "source": [
    "# Get Neighbours\n",
    "outArray = []\n",
    "for i in range(3):\n",
    "    neighbors = get_neighbors(X_train, \n",
    "                              y_train, \n",
    "                              X_test[i], \n",
    "                              k_value_rootN, \n",
    "                              distance=euclideanDistance)\n",
    "#     print(i,\n",
    "#           X_test[i],\n",
    "#           y_test[i],\n",
    "#           neighbors)\n",
    "    \n",
    "    outArray.append([i,\n",
    "          X_test[i],\n",
    "          y_test[i],\n",
    "          neighbors])\n",
    "\n",
    "out_df = pd.DataFrame(outArray, columns=['i', 'X_test', 'y_test', 'neighbours'])\n",
    "out_df.head()\n",
    "# out_df.tail()"
   ]
  },
  {
   "cell_type": "code",
   "execution_count": 148,
   "metadata": {},
   "outputs": [],
   "source": [
    "from collections import Counter\n",
    "#LOC: outputs for each [x,y] in label, \n",
    "#     where (x_n1, y_n1) rep x and y coord of 1st neighbour resp\n",
    "#     x_out = sum(x_n1, ... x_N) / N, where total neighbours = N\n",
    "def calcLocation(neighbours): \n",
    "    x_out = 0\n",
    "    y_out = 0\n",
    "    totalNeighbours = len(neighbours)\n",
    "    for neighbour in neighbours:\n",
    "        # handle label (str) to tuple(int, int)\n",
    "        labeltuple = neighbour[2]\n",
    "        labeltuple = tuple(map(int, labeltuple.split(',')))\n",
    "#         print(\"neighbour label: \", labeltuple)\n",
    "        x_nb = labeltuple[0]\n",
    "        y_nb = labeltuple[1]\n",
    "#         print(\"x_nb: \", x_nb)\n",
    "#         print(\"y_nb: \", y_nb)\n",
    "        x_out += x_nb\n",
    "        y_out += y_nb\n",
    "#         print(\"x_out: \", x_out)\n",
    "#         print(\"y_out: \", y_out)\n",
    "    return ((x_out/totalNeighbours) , (y_out/totalNeighbours))\n",
    "    \n"
   ]
  },
  {
   "cell_type": "code",
   "execution_count": 149,
   "metadata": {},
   "outputs": [
    {
     "name": "stdout",
     "output_type": "stream",
     "text": [
      "NON-WEIGHTED POSITION KNN\n",
      "\n",
      "test location:  (13, 7)\n",
      "calculalated location:  (13.0, 3.0)\n",
      "distance error:  4.0\n",
      "----------------------------\n",
      "test location:  (7, 7)\n",
      "calculalated location:  (5.0, 7.0)\n",
      "distance error:  2.0\n",
      "----------------------------\n"
     ]
    }
   ],
   "source": [
    "print(\"NON-WEIGHTED POSITION KNN\\n\")\n",
    "k_value_knn = k_value_rootN\n",
    "for i in range(2):\n",
    "    neighbors = get_neighbors(X_train, \n",
    "                              y_train, \n",
    "                              X_test[i], \n",
    "                              k_value_knn, \n",
    "                              distance=euclideanDistance)\n",
    "    testPosTuple = tuple(map(int, y_test[i][0].split(',')))\n",
    "    print(\"test location: \", testPosTuple)\n",
    "    print(\"calculalated location: \", calcLocation(neighbors))\n",
    "    print(\"distance error: \", euclideanDistance(testPosTuple, calcLocation(neighbors)))\n",
    "    print(\"----------------------------\")"
   ]
  },
  {
   "cell_type": "code",
   "execution_count": 151,
   "metadata": {},
   "outputs": [
    {
     "name": "stdout",
     "output_type": "stream",
     "text": [
      "File E5_KNN_T1_k3.csv has been written.\n"
     ]
    },
    {
     "data": {
      "text/html": [
       "<div>\n",
       "<style scoped>\n",
       "    .dataframe tbody tr th:only-of-type {\n",
       "        vertical-align: middle;\n",
       "    }\n",
       "\n",
       "    .dataframe tbody tr th {\n",
       "        vertical-align: top;\n",
       "    }\n",
       "\n",
       "    .dataframe thead th {\n",
       "        text-align: right;\n",
       "    }\n",
       "</style>\n",
       "<table border=\"1\" class=\"dataframe\">\n",
       "  <thead>\n",
       "    <tr style=\"text-align: right;\">\n",
       "      <th></th>\n",
       "      <th>index</th>\n",
       "      <th>data</th>\n",
       "      <th>pred_location</th>\n",
       "      <th>label</th>\n",
       "      <th>error</th>\n",
       "    </tr>\n",
       "  </thead>\n",
       "  <tbody>\n",
       "    <tr>\n",
       "      <th>0</th>\n",
       "      <td>0</td>\n",
       "      <td>[177.0, 179.54123710000002, 177.0430464, 181.5...</td>\n",
       "      <td>(13.0, 3.0)</td>\n",
       "      <td>13,7</td>\n",
       "      <td>4.000000</td>\n",
       "    </tr>\n",
       "    <tr>\n",
       "      <th>1</th>\n",
       "      <td>1</td>\n",
       "      <td>[179.5366972, 191.0541126, 185.52747250000002,...</td>\n",
       "      <td>(5.0, 7.0)</td>\n",
       "      <td>7,7</td>\n",
       "      <td>2.000000</td>\n",
       "    </tr>\n",
       "    <tr>\n",
       "      <th>2</th>\n",
       "      <td>2</td>\n",
       "      <td>[177.0, 177.99743590000003, 178.85664340000002...</td>\n",
       "      <td>(9.0, 11.0)</td>\n",
       "      <td>13,13</td>\n",
       "      <td>4.472136</td>\n",
       "    </tr>\n",
       "    <tr>\n",
       "      <th>3</th>\n",
       "      <td>3</td>\n",
       "      <td>[193.20181409999998, 189.45901640000002, 183.5...</td>\n",
       "      <td>(3.0, 7.0)</td>\n",
       "      <td>1,1</td>\n",
       "      <td>6.324555</td>\n",
       "    </tr>\n",
       "  </tbody>\n",
       "</table>\n",
       "</div>"
      ],
      "text/plain": [
       "   index                                               data pred_location  \\\n",
       "0      0  [177.0, 179.54123710000002, 177.0430464, 181.5...   (13.0, 3.0)   \n",
       "1      1  [179.5366972, 191.0541126, 185.52747250000002,...    (5.0, 7.0)   \n",
       "2      2  [177.0, 177.99743590000003, 178.85664340000002...   (9.0, 11.0)   \n",
       "3      3  [193.20181409999998, 189.45901640000002, 183.5...    (3.0, 7.0)   \n",
       "\n",
       "   label     error  \n",
       "0   13,7  4.000000  \n",
       "1    7,7  2.000000  \n",
       "2  13,13  4.472136  \n",
       "3    1,1  6.324555  "
      ]
     },
     "execution_count": 151,
     "metadata": {},
     "output_type": "execute_result"
    }
   ],
   "source": [
    "k_value_knn = k_value_rootN\n",
    "writeKNN = True\n",
    "fileNameKNN = 'E'+str(exp)+'_KNN_'+'T'+str(trial)+'_k'+str(k_value_knn)+'.csv'\n",
    "resultsKNN = pd.DataFrame(0, index=range(len(X_test)), columns=['index', 'data', 'pred_location', 'label', 'error'])\n",
    "\n",
    "indexArray = []\n",
    "dataArray = []\n",
    "locArray = []\n",
    "labelArray = []\n",
    "errorArray = []\n",
    "for i in range(len(X_test)):\n",
    "    neighbors = get_neighbors(X_train, \n",
    "                              y_train, \n",
    "                              X_test[i], \n",
    "                              k_value_knn, \n",
    "                              distance=euclideanDistance)\n",
    "    \n",
    "    testPosTuple = tuple(map(int, y_test[i][0].split(',')))\n",
    "#     print(\"test location: \", testPosTuple)\n",
    "#     print(\"calculalated location: \", calcLocation(neighbors))\n",
    "#     print(\"distance error: \", euclideanDistance(testPosTuple, calcLocation(neighbors)))\n",
    "    \n",
    "    indexArray.append(i)\n",
    "    dataArray.append(X_test[i])\n",
    "    locArray.append(calcLocation(neighbors))\n",
    "    labelArray.append(y_test[i][0])\n",
    "    errorArray.append(euclideanDistance(testPosTuple, calcLocation(neighbors)))\n",
    "\n",
    "\n",
    "resultsKNN['index'] = indexArray\n",
    "resultsKNN['data'] = dataArray\n",
    "resultsKNN['pred_location'] = locArray\n",
    "resultsKNN['label'] = labelArray \n",
    "resultsKNN['error'] = errorArray\n",
    "\n",
    "if (writeKNN == True):\n",
    "    resultsKNN.to_csv(fileNameKNN, index=False)\n",
    "    print(\"File \"+fileNameKNN+\" has been written.\")\n",
    "resultsKNN.head(20)"
   ]
  },
  {
   "cell_type": "markdown",
   "metadata": {},
   "source": [
    "# Weighted KNN"
   ]
  },
  {
   "cell_type": "code",
   "execution_count": 136,
   "metadata": {},
   "outputs": [
    {
     "data": {
      "text/plain": [
       "'\\ndef calcLocationRankW(neighbours): \\n    x_out = 0\\n    y_out = 0\\n    rank = 0\\n    for neighbour in neighbours:\\n        rank += 1\\n        # handle label (str) to tuple(int, int)\\n        labeltuple = neighbour[2]\\n        labeltuple = tuple(map(int, labeltuple.split(\\',\\')))\\n#         print(\"neighbour label: \", labeltuple)\\n        x_nb = labeltuple[0]\\n        y_nb = labeltuple[1]\\n#         print(\"x_nb: \", x_nb)\\n#         print(\"y_nb: \", y_nb)\\n        x_out += x_nb*(1/rank)\\n        y_out += y_nb*(1/rank)\\n#         print(\"x_out: \", x_out)\\n#         print(\"y_out: \", y_out)\\n    return ((x_out) , (y_out))\\n'"
      ]
     },
     "execution_count": 136,
     "metadata": {},
     "output_type": "execute_result"
    }
   ],
   "source": [
    "'''\n",
    "def calcLocationRankW(neighbours): \n",
    "    x_out = 0\n",
    "    y_out = 0\n",
    "    rank = 0\n",
    "    for neighbour in neighbours:\n",
    "        rank += 1\n",
    "        # handle label (str) to tuple(int, int)\n",
    "        labeltuple = neighbour[2]\n",
    "        labeltuple = tuple(map(int, labeltuple.split(',')))\n",
    "#         print(\"neighbour label: \", labeltuple)\n",
    "        x_nb = labeltuple[0]\n",
    "        y_nb = labeltuple[1]\n",
    "#         print(\"x_nb: \", x_nb)\n",
    "#         print(\"y_nb: \", y_nb)\n",
    "        x_out += x_nb*(1/rank)\n",
    "        y_out += y_nb*(1/rank)\n",
    "#         print(\"x_out: \", x_out)\n",
    "#         print(\"y_out: \", y_out)\n",
    "    return ((x_out) , (y_out))\n",
    "'''"
   ]
  },
  {
   "cell_type": "code",
   "execution_count": 137,
   "metadata": {},
   "outputs": [
    {
     "data": {
      "text/plain": [
       "'\\nresultsRWKNN = pd.DataFrame(0, index=range(len(X_test)), columns=[\\'index\\', \\'data\\', \\'label\\', \\'vote_result\\', \\'prediction\\'])\\n\\nindexArray = []\\ndataArray = []\\nlabelArray = []\\nvoteArray = []\\npredArray = []\\n\\nfor i in range(len(X_test)):\\n    neighbors = get_neighbors(X_train, \\n                              y_train, \\n                              X_test[i], \\n                              k_value, \\n                              distance=euclideanDistance)\\n    \\n    testPosTuple = tuple(map(int, y_test[i][0].split(\\',\\')))\\n    print(\"test location: \", testPosTuple)\\n    print(\"calculalated location: \", calcLocationRankW(neighbors))\\n    print(\"distance error: \", euclideanDistance(testPosTuple, calcLocation(neighbors)))\\n    \\n# resultsRWKNN[\\'index\\'] = indexArray\\n# resultsRWKNN[\\'data\\'] = dataArray\\n# resultsRWKNN[\\'label\\'] = labelArray\\n# resultsRWKNN[\\'vote_result\\'] = voteArray\\n# resultsRWKNN[\\'prediction\\'] = predArray\\n\\n\\n# resultsRWKNN.to_csv(\\'./Datasets/Testing/RANKKNN_LOC.csv\\', index=False) \\n# print(\"FILE WRITTEN\")\\n# resultsRWKNN\\n'"
      ]
     },
     "execution_count": 137,
     "metadata": {},
     "output_type": "execute_result"
    }
   ],
   "source": [
    "\"\"\"\n",
    "resultsRWKNN = pd.DataFrame(0, index=range(len(X_test)), columns=['index', 'data', 'label', 'vote_result', 'prediction'])\n",
    "\n",
    "indexArray = []\n",
    "dataArray = []\n",
    "labelArray = []\n",
    "voteArray = []\n",
    "predArray = []\n",
    "\n",
    "for i in range(len(X_test)):\n",
    "    neighbors = get_neighbors(X_train, \n",
    "                              y_train, \n",
    "                              X_test[i], \n",
    "                              k_value, \n",
    "                              distance=euclideanDistance)\n",
    "    \n",
    "    testPosTuple = tuple(map(int, y_test[i][0].split(',')))\n",
    "    print(\"test location: \", testPosTuple)\n",
    "    print(\"calculalated location: \", calcLocationRankW(neighbors))\n",
    "    print(\"distance error: \", euclideanDistance(testPosTuple, calcLocation(neighbors)))\n",
    "    \n",
    "# resultsRWKNN['index'] = indexArray\n",
    "# resultsRWKNN['data'] = dataArray\n",
    "# resultsRWKNN['label'] = labelArray\n",
    "# resultsRWKNN['vote_result'] = voteArray\n",
    "# resultsRWKNN['prediction'] = predArray\n",
    "\n",
    "\n",
    "# resultsRWKNN.to_csv('./Datasets/Testing/RANKKNN_LOC.csv', index=False) \n",
    "# print(\"FILE WRITTEN\")\n",
    "# resultsRWKNN\n",
    "\"\"\"\n"
   ]
  },
  {
   "cell_type": "markdown",
   "metadata": {},
   "source": [
    "# Distance Weighted KNN"
   ]
  },
  {
   "cell_type": "code",
   "execution_count": 152,
   "metadata": {},
   "outputs": [],
   "source": [
    "def calcLocationDistW(neighbours): \n",
    "    x_out = 0\n",
    "    y_out = 0\n",
    "    total_dist = 0\n",
    "#     cnt = 1\n",
    "    for neighbour in neighbours:\n",
    "#         print(\"Neighour #: \", cnt)\n",
    "        # handle label (str) to tuple(int, int)\n",
    "        labeltuple = neighbour[2]\n",
    "        labeltuple = tuple(map(int, labeltuple.split(',')))\n",
    "        # distance\n",
    "        dist_nb = neighbour[1]\n",
    "        total_dist += ( 1 / (1 if dist_nb == 0 else dist_nb) )\n",
    "#         print(\"Neighbour distance: \", dist_nb)\n",
    "#         print(\"Total distance: \", total_dist)\n",
    "        x_nb = labeltuple[0]\n",
    "        y_nb = labeltuple[1]\n",
    "#         print(\"x_nb: \", x_nb)\n",
    "#         print(\"y_nb: \", y_nb)\n",
    "        x_out += x_nb*( 1 / (1 if dist_nb == 0 else dist_nb) )\n",
    "        y_out += y_nb*( 1 / (1 if dist_nb == 0 else dist_nb) )\n",
    "#         print(\"x_out: \", x_out)\n",
    "#         print(\"y_out: \", y_out)\n",
    "#         cnt += 1\n",
    "    return ( (x_out/(1 if total_dist == 0 else total_dist)) ,\n",
    "             (y_out/(1 if total_dist == 0 else total_dist)) )\n"
   ]
  },
  {
   "cell_type": "code",
   "execution_count": 153,
   "metadata": {},
   "outputs": [
    {
     "name": "stdout",
     "output_type": "stream",
     "text": [
      "test location:  (13, 7)\n",
      "calculalated location:  (13.689422495907879, 3.274703985924737)\n",
      "distance error:  3.7885529916247562\n",
      "---------------------------------------------------------\n",
      "test location:  (7, 7)\n",
      "calculalated location:  (4.960527102559606, 7.037519564700919)\n",
      "distance error:  2.039817986274575\n",
      "---------------------------------------------------------\n",
      "test location:  (13, 13)\n",
      "calculalated location:  (9.545609450540773, 10.82104482518502)\n",
      "distance error:  4.084196337352822\n",
      "---------------------------------------------------------\n"
     ]
    }
   ],
   "source": [
    "k_value_dwknn = k_value_rootN\n",
    "testRange = 3\n",
    "# loops true each test record\n",
    "for i in range(testRange):\n",
    "    neighbors = get_neighbors(X_train, \n",
    "                              y_train, \n",
    "                              X_test[i], \n",
    "                              k_value_dwknn, \n",
    "                              distance=euclideanDistance)\n",
    "    \n",
    "    testPosTuple = tuple(map(int, y_test[i][0].split(',')))\n",
    "    print(\"test location: \", testPosTuple)\n",
    "    calculatedLoc = calcLocationDistW(neighbors)\n",
    "    print(\"calculalated location: \", calculatedLoc)\n",
    "    print(\"distance error: \", euclideanDistance(testPosTuple, calculatedLoc))\n",
    "    print(\"---------------------------------------------------------\")"
   ]
  },
  {
   "cell_type": "code",
   "execution_count": 157,
   "metadata": {},
   "outputs": [
    {
     "name": "stdout",
     "output_type": "stream",
     "text": [
      "File E5_DWKNN_T1_k3.csv has been written.\n"
     ]
    },
    {
     "data": {
      "text/html": [
       "<div>\n",
       "<style scoped>\n",
       "    .dataframe tbody tr th:only-of-type {\n",
       "        vertical-align: middle;\n",
       "    }\n",
       "\n",
       "    .dataframe tbody tr th {\n",
       "        vertical-align: top;\n",
       "    }\n",
       "\n",
       "    .dataframe thead th {\n",
       "        text-align: right;\n",
       "    }\n",
       "</style>\n",
       "<table border=\"1\" class=\"dataframe\">\n",
       "  <thead>\n",
       "    <tr style=\"text-align: right;\">\n",
       "      <th></th>\n",
       "      <th>index</th>\n",
       "      <th>data</th>\n",
       "      <th>pred_location</th>\n",
       "      <th>label</th>\n",
       "      <th>error</th>\n",
       "    </tr>\n",
       "  </thead>\n",
       "  <tbody>\n",
       "    <tr>\n",
       "      <th>0</th>\n",
       "      <td>0</td>\n",
       "      <td>[177.0, 179.54123710000002, 177.0430464, 181.5...</td>\n",
       "      <td>(13.689422495907879, 3.274703985924737)</td>\n",
       "      <td>13,7</td>\n",
       "      <td>3.788553</td>\n",
       "    </tr>\n",
       "    <tr>\n",
       "      <th>1</th>\n",
       "      <td>1</td>\n",
       "      <td>[179.5366972, 191.0541126, 185.52747250000002,...</td>\n",
       "      <td>(4.960527102559606, 7.037519564700919)</td>\n",
       "      <td>7,7</td>\n",
       "      <td>2.039818</td>\n",
       "    </tr>\n",
       "    <tr>\n",
       "      <th>2</th>\n",
       "      <td>2</td>\n",
       "      <td>[177.0, 177.99743590000003, 178.85664340000002...</td>\n",
       "      <td>(9.545609450540773, 10.82104482518502)</td>\n",
       "      <td>13,13</td>\n",
       "      <td>4.084196</td>\n",
       "    </tr>\n",
       "    <tr>\n",
       "      <th>3</th>\n",
       "      <td>3</td>\n",
       "      <td>[193.20181409999998, 189.45901640000002, 183.5...</td>\n",
       "      <td>(2.7306729986473037, 7.557016449132776)</td>\n",
       "      <td>1,1</td>\n",
       "      <td>6.781570</td>\n",
       "    </tr>\n",
       "  </tbody>\n",
       "</table>\n",
       "</div>"
      ],
      "text/plain": [
       "   index                                               data  \\\n",
       "0      0  [177.0, 179.54123710000002, 177.0430464, 181.5...   \n",
       "1      1  [179.5366972, 191.0541126, 185.52747250000002,...   \n",
       "2      2  [177.0, 177.99743590000003, 178.85664340000002...   \n",
       "3      3  [193.20181409999998, 189.45901640000002, 183.5...   \n",
       "\n",
       "                             pred_location  label     error  \n",
       "0  (13.689422495907879, 3.274703985924737)   13,7  3.788553  \n",
       "1   (4.960527102559606, 7.037519564700919)    7,7  2.039818  \n",
       "2   (9.545609450540773, 10.82104482518502)  13,13  4.084196  \n",
       "3  (2.7306729986473037, 7.557016449132776)    1,1  6.781570  "
      ]
     },
     "execution_count": 157,
     "metadata": {},
     "output_type": "execute_result"
    }
   ],
   "source": [
    "k_value_dwknn = k_value_rootN\n",
    "writeDWKNN = True\n",
    "fileNameDWKNN = 'E'+str(exp)+'_DWKNN_'+'T'+str(trial)+'_k'+str(k_value_dwknn)+'.csv'\n",
    "resultsDWKNN = pd.DataFrame(0, index=range(len(X_test)), columns=['index', 'data', 'pred_location', 'label', 'error'])\n",
    "\n",
    "indexArray = []\n",
    "dataArray = []\n",
    "locArray = []\n",
    "labelArray = []\n",
    "errorArray = []\n",
    "for i in range(len(X_test)):\n",
    "    neighbors = get_neighbors(X_train, \n",
    "                              y_train, \n",
    "                              X_test[i], \n",
    "                              k_value_dwknn, \n",
    "                              distance=euclideanDistance)\n",
    "    \n",
    "    testPosTuple = tuple(map(int, y_test[i][0].split(',')))\n",
    "#     print(\"test location: \", testPosTuple)\n",
    "#     print(\"calculalated location: \", calcLocationDistW(neighbors))\n",
    "#     print(\"distance error: \", euclideanDistance(testPosTuple, calcLocationDistW(neighbors)))\n",
    "    \n",
    "    indexArray.append(i)\n",
    "    dataArray.append(X_test[i])\n",
    "    locArray.append(calcLocationDistW(neighbors))\n",
    "    labelArray.append(y_test[i][0])\n",
    "    errorArray.append(euclideanDistance(testPosTuple, calcLocationDistW(neighbors)))\n",
    "\n",
    "\n",
    "resultsDWKNN['index'] = indexArray\n",
    "resultsDWKNN['data'] = dataArray\n",
    "resultsDWKNN['pred_location'] = locArray\n",
    "resultsDWKNN['label'] = labelArray \n",
    "resultsDWKNN['error'] = errorArray\n",
    "\n",
    "if (writeDWKNN == True):\n",
    "    resultsDWKNN.to_csv(fileNameDWKNN, index=False)\n",
    "    print(\"File \"+fileNameDWKNN+\" has been written.\")\n",
    "    \n",
    "resultsDWKNN.head(20)"
   ]
  },
  {
   "cell_type": "markdown",
   "metadata": {},
   "source": [
    "# Data Analysis via Visualisation"
   ]
  },
  {
   "cell_type": "code",
   "execution_count": 158,
   "metadata": {
    "scrolled": false
   },
   "outputs": [
    {
     "data": {
      "image/png": "[encoded data removed]",
      "text/plain": [
       "<Figure size 1080x1080 with 1 Axes>"
      ]
     },
     "metadata": {
      "needs_background": "light"
     },
     "output_type": "display_data"
    },
    {
     "name": "stdout",
     "output_type": "stream",
     "text": [
      "MEDIAN ERROR:\n",
      "KNNcomp1      7.242641\n",
      "KNNcomp2      4.236068\n",
      "DWKNNcomp1    7.242641\n",
      "DWKNNcomp2    3.936375\n",
      "dtype: float64\n"
     ]
    }
   ],
   "source": [
    "fig= plt.figure(figsize=(15,15))\n",
    "medErrorDf = pd.DataFrame(index = range(0,len(X_test)))\n",
    "\n",
    "KNN_kcomp1 = pd.read_csv('E5_KNN_T1_k1.csv')\n",
    "error = KNN_kcomp1['error']\n",
    "medErrorDf['KNNcomp1'] = error\n",
    "knn_kcomp1_error = np.sort(error)\n",
    "cdf = np.arange(0,len(knn_kcomp1_error),step=1)/(len(knn_kcomp1_error)-1)\n",
    "## plotting    \n",
    "plt.plot(knn_kcomp1_error,cdf, \"red\", label = \"KNN_1\")\n",
    "\n",
    "KNN_kcomp2 = pd.read_csv('E5_KNN_T1_k3.csv')\n",
    "error = KNN_kcomp2['error']\n",
    "medErrorDf['KNNcomp2'] = error\n",
    "knn_kcomp2_error = np.sort(error)\n",
    "cdf = np.arange(0,len(knn_kcomp2_error),step=1)/(len(knn_kcomp2_error)-1)\n",
    "## plotting    \n",
    "plt.plot(knn_kcomp2_error,cdf, \"green\", label = \"KNN_3\")\n",
    "\n",
    "DWKNN_kcomp1 = pd.read_csv('E5_DWKNN_T1_k1.csv')\n",
    "error = DWKNN_kcomp1['error']\n",
    "medErrorDf['DWKNNcomp1'] = error\n",
    "dwknn_kcomp1_error = np.sort(error)\n",
    "cdf = np.arange(0,len(dwknn_kcomp1_error),step=1)/(len(dwknn_kcomp1_error)-1)\n",
    "## plotting    \n",
    "plt.plot(dwknn_kcomp1_error,cdf, \"blue\", label = \"DWKNN_1\")\n",
    "\n",
    "DWKNN_kcomp2 = pd.read_csv('E5_DWKNN_T1_k3.csv')\n",
    "error = DWKNN_kcomp2['error']\n",
    "medErrorDf['DWKNNcomp2'] = error\n",
    "dwknn_kcomp2_error = np.sort(error)\n",
    "cdf = np.arange(0,len(dwknn_kcomp2_error),step=1)/(len(dwknn_kcomp2_error)-1)\n",
    "## plotting\n",
    "plt.plot(dwknn_kcomp2_error,cdf, \"purple\", label = \"DWKNN_3\")\n",
    "\n",
    "# additional plot params\n",
    "plt.legend(loc='best', fontsize = 10)\n",
    "plt.show()\n",
    "\n",
    "print(\"MEDIAN ERROR:\")\n",
    "print(medErrorDf.median())\n"
   ]
  },
  {
   "cell_type": "code",
   "execution_count": null,
   "metadata": {},
   "outputs": [],
   "source": []
  }
 ],
 "metadata": {
  "kernelspec": {
   "display_name": "Python 3",
   "language": "python",
   "name": "python3"
  },
  "language_info": {
   "codemirror_mode": {
    "name": "ipython",
    "version": 3
   },
   "file_extension": ".py",
   "mimetype": "text/x-python",
   "name": "python",
   "nbconvert_exporter": "python",
   "pygments_lexer": "ipython3",
   "version": "3.7.6"
  }
 },
 "nbformat": 4,
 "nbformat_minor": 4
}
